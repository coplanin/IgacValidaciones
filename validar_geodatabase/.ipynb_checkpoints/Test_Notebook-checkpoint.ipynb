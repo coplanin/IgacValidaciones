{
 "cells": [
  {
   "cell_type": "code",
   "execution_count": 1,
   "metadata": {},
   "outputs": [
    {
     "name": "stdout",
     "output_type": "stream",
     "text": [
      "C:\\opt\\work\\igac\\data\\egdb_conn\\colsmart_dev\\egdb_colsmart_dev_colsmart_test5_owner.sde\n",
      "edgeograficos.colsmart_test5_owner.CR_UND_CON_CR_FUE_ESP\n",
      "<geoprocessing describe data object object at 0x000001F93539EBD0>\n",
      "Backward Path Label: CR_UnidadConstruccion\n",
      "Cardinality: OneToMany\n",
      "Class key: Undefined\n",
      "Destination Class Names: ['edgeograficos.colsmart_test5_owner.CR_FuenteEspacial']\n",
      "Forward Path Label: CR_FuenteEspacial\n",
      "Is Attributed: False\n",
      "Is Composite: False\n",
      "Is Reflexive: False\n",
      "Key Type: Single\n",
      "Notification Direction: None\n",
      "Origin Class Names: ['edgeograficos.colsmart_test5_owner.CR_UnidadConstruccion']\n"
     ]
    }
   ],
   "source": [
    "import arcpy\n",
    "\n",
    "sde_conn = r\"C:\\opt\\work\\igac\\data\\egdb_conn\\colsmart_dev\\egdb_colsmart_dev_colsmart_test5_owner.sde\"\n",
    "arcpy.env.workspace = sde_conn\n",
    "print(sde_conn)\n",
    "#desc = arcpy.Describe(sde_conn)\n",
    "#print(desc)\n",
    "\n",
    "# sde_conn+\"\\\\\"+\n",
    "rel = \"edgeograficos.colsmart_test5_owner.CR_UND_CON_CR_FUE_ESP\"\n",
    "print(rel)\n",
    "desc = arcpy.Describe(rel)\n",
    "\n",
    "print(desc)\n",
    "\n",
    "# Print relationship class properties\n",
    "#\n",
    "print (\"Backward Path Label: {}\".format(desc.backwardPathLabel))\n",
    "print (\"Cardinality: {}\".format(desc.cardinality))\n",
    "print (\"Class key: {}\".format(desc.classKey))\n",
    "print (\"Destination Class Names: {}\".format(desc.destinationClassNames))\n",
    "print (\"Forward Path Label: {}\".format(desc.forwardPathLabel)) \n",
    "print (\"Is Attributed: {}\".format(desc.isAttributed))\n",
    "print (\"Is Composite: {}\".format(desc.isComposite)) \n",
    "print (\"Is Reflexive: {}\".format(desc.isReflexive))\n",
    "print (\"Key Type: {}\".format(desc.keyType))\n",
    "print (\"Notification Direction: {}\".format(desc.notification))\n",
    "print (\"Origin Class Names: {}\".format(desc.originClassNames))"
   ]
  },
  {
   "cell_type": "code",
   "execution_count": 2,
   "metadata": {},
   "outputs": [
    {
     "name": "stdout",
     "output_type": "stream",
     "text": [
      "desc.originClassKeys:  [('globalid', 'OriginPrimary', ''), ('UnidadConstruccion_GUID', 'OriginForeign', '')]\n",
      "desc.destinationClassKeys:  []\n"
     ]
    }
   ],
   "source": [
    "print(f\"desc.originClassKeys:  {desc.originClassKeys}\")\n",
    "print(f\"desc.destinationClassKeys:  {desc.destinationClassKeys}\")"
   ]
  },
  {
   "cell_type": "code",
   "execution_count": 5,
   "metadata": {},
   "outputs": [
    {
     "data": {
      "text/plain": [
       "list"
      ]
     },
     "execution_count": 5,
     "metadata": {},
     "output_type": "execute_result"
    }
   ],
   "source": [
    "type(desc.originClassKeys)"
   ]
  },
  {
   "cell_type": "code",
   "execution_count": 3,
   "metadata": {},
   "outputs": [
    {
     "name": "stdout",
     "output_type": "stream",
     "text": [
      "('globalid', 'OriginPrimary', '')\n",
      "<class 'tuple'>\n",
      "OriginPrimary\n",
      "globalid\n",
      "('UnidadConstruccion_GUID', 'OriginForeign', '')\n",
      "<class 'tuple'>\n",
      "OriginForeign\n",
      "UnidadConstruccion_GUID\n"
     ]
    }
   ],
   "source": [
    "for i in desc.originClassKeys:\n",
    "    print (i)\n",
    "    print(type(i))\n",
    "    print(i[1])\n",
    "    print(i[0])"
   ]
  },
  {
   "cell_type": "code",
   "execution_count": 4,
   "metadata": {},
   "outputs": [
    {
     "name": "stdout",
     "output_type": "stream",
     "text": [
      "['edgeograficos.colsmart_test5_owner.CR_DatosPHCondominio', 'edgeograficos.colsmart_test5_owner.CR_FuenteEspacial', 'edgeograficos.colsmart_test5_owner.ExtDireccion', 'edgeograficos.colsmart_test5_owner.ILC_CaracteristicasUnidadConstruccion', 'edgeograficos.colsmart_test5_owner.ILC_DatosAdicionalesLevantamientoCatastral', 'edgeograficos.colsmart_test5_owner.ILC_Derecho', 'edgeograficos.colsmart_test5_owner.ILC_EstructuraAvaluo', 'edgeograficos.colsmart_test5_owner.ILC_FuenteAdministrativa', 'edgeograficos.colsmart_test5_owner.ILC_Interesado', 'edgeograficos.colsmart_test5_owner.ILC_Predio_Informalidad', 'edgeograficos.colsmart_test5_owner.ILC_TramitesDerechosTerritoriales', 'edgeograficos.colsmart_test5_owner.CR_Terreno', 'edgeograficos.colsmart_test5_owner.CR_UnidadConstruccion', 'edgeograficos.colsmart_test5_owner.ILC_Marcas', 'edgeograficos.colsmart_test5_owner.ILC_Predio']\n"
     ]
    }
   ],
   "source": [
    "elements = arcpy.ListTables() + arcpy.ListFeatureClasses() \n",
    "print(elements)"
   ]
  },
  {
   "cell_type": "code",
   "execution_count": 5,
   "metadata": {},
   "outputs": [
    {
     "name": "stdout",
     "output_type": "stream",
     "text": [
      "edgeograficos.colsmart_test5_owner.CR_DatosPHCondominio\n",
      "<geoprocessing describe field object object at 0x000001F93539E590>\n"
     ]
    },
    {
     "ename": "<class 'AttributeError'>",
     "evalue": "module 'arcpy.da' has no attribute 'ListDomain'",
     "output_type": "error",
     "traceback": [
      "\u001b[1;31m---------------------------------------------------------------------------\u001b[0m",
      "\u001b[1;31mAttributeError\u001b[0m                            Traceback (most recent call last)",
      "Cell \u001b[1;32mIn[5], line 8\u001b[0m\n\u001b[0;32m      6\u001b[0m \u001b[38;5;28;01mif\u001b[39;00m f\u001b[38;5;241m.\u001b[39mdomain:\n\u001b[0;32m      7\u001b[0m     \u001b[38;5;28mprint\u001b[39m(f)\n\u001b[1;32m----> 8\u001b[0m     valores_validos \u001b[38;5;241m=\u001b[39m [val[\u001b[38;5;241m0\u001b[39m] \u001b[38;5;28;01mfor\u001b[39;00m val \u001b[38;5;129;01min\u001b[39;00m arcpy\u001b[38;5;241m.\u001b[39mda\u001b[38;5;241m.\u001b[39mListDomain(gdb_path, f\u001b[38;5;241m.\u001b[39mdomain)[\u001b[38;5;124m\"\u001b[39m\u001b[38;5;124mcodedValues\u001b[39m\u001b[38;5;124m\"\u001b[39m]]\n\u001b[0;32m      9\u001b[0m     \u001b[38;5;28;01mwith\u001b[39;00m arcpy\u001b[38;5;241m.\u001b[39mda\u001b[38;5;241m.\u001b[39mSearchCursor(fc, [f\u001b[38;5;241m.\u001b[39mname]) \u001b[38;5;28;01mas\u001b[39;00m cursor:\n\u001b[0;32m     10\u001b[0m         \u001b[38;5;28;01mfor\u001b[39;00m row \u001b[38;5;129;01min\u001b[39;00m cursor:\n",
      "\u001b[1;31mAttributeError\u001b[0m: module 'arcpy.da' has no attribute 'ListDomain'"
     ]
    }
   ],
   "source": [
    "# --- Validación de dominios\n",
    "elements = arcpy.ListTables() + arcpy.ListFeatureClasses() \n",
    "print(elements)\n",
    "for fc in elements:\n",
    "    print(fc)\n",
    "    fields = arcpy.ListFields(fc)\n",
    "    for f in fields:\n",
    "        if f.domain:\n",
    "            print(f)\n",
    "            valores_validos = [val[0] for val in arcpy.da.ListDomain(gdb_path, f.domain)[\"codedValues\"]]\n",
    "            with arcpy.da.SearchCursor(fc, [f.name]) as cursor:\n",
    "                for row in cursor:\n",
    "                    if row[0] not in valores_validos:\n",
    "                        registrar(f\"Valor fuera de dominio: {row[0]}\", \"Dominio\", fc, f.name, str(row[0]))"
   ]
  },
  {
   "cell_type": "code",
   "execution_count": 6,
   "metadata": {},
   "outputs": [
    {
     "name": "stdout",
     "output_type": "stream",
     "text": [
      "76\n",
      "15\n",
      "***************************\n",
      "Validando: edgeograficos.colsmart_test5_owner.CR_DatosPHCondominio\n",
      "***************************\n",
      "Validando: edgeograficos.colsmart_test5_owner.CR_FuenteEspacial\n",
      "<geoprocessing describe field object object at 0x00000268D6BCB7F0>\n",
      "COL_SiNo\n",
      "['No', 'Si']\n",
      "***************************\n",
      "Validando: edgeograficos.colsmart_test5_owner.ExtDireccion\n",
      "<geoprocessing describe field object object at 0x00000268D4070A50>\n",
      "ILC_ClaseViaPrincipalTipo\n",
      "['Autopista', 'Avenida', 'Avenida_Calle', 'Avenida_Carrera', 'Calle', 'Carrera', 'Circular', 'Circunvalar', 'Diagonal', 'Transversal']\n",
      "***************************\n",
      "Validando: edgeograficos.colsmart_test5_owner.ILC_CaracteristicasUnidadConstruccion\n",
      "<geoprocessing describe field object object at 0x00000268D6BCB950>\n",
      "CUC_EstadoConservacionTipologiaTipo\n",
      "['Bueno', 'Deficiente', 'Intermedio', 'Malo', 'Muy_Bueno', 'Muy_Malo', 'Optimo', 'Regular', 'Ruinoso']\n",
      "***************************\n",
      "Validando: edgeograficos.colsmart_test5_owner.ILC_DatosAdicionalesLevantamientoCatastral\n",
      "<geoprocessing describe field object object at 0x00000268D4070A90>\n",
      "COL_SiNo\n",
      "['No', 'Si']\n",
      "***************************\n",
      "Validando: edgeograficos.colsmart_test5_owner.ILC_Derecho\n",
      "<geoprocessing describe field object object at 0x00000268D044EA90>\n",
      "COL_SiNo\n",
      "['No', 'Si']\n",
      "***************************\n",
      "Validando: edgeograficos.colsmart_test5_owner.ILC_EstructuraAvaluo\n",
      "<geoprocessing describe field object object at 0x00000268D4070AB0>\n",
      "COL_SiNo\n",
      "['No', 'Si']\n",
      "[Dominio] Valor fuera de dominio → Tabla: edgeograficos.colsmart_test5_owner.ILC_EstructuraAvaluo, Campo: autoestimacion, Valor: , objectid: 638858\n",
      "***************************\n",
      "Validando: edgeograficos.colsmart_test5_owner.ILC_FuenteAdministrativa\n",
      "<geoprocessing describe field object object at 0x00000268D044EEF0>\n",
      "COL_SiNo\n",
      "['No', 'Si']\n",
      "***************************\n",
      "Validando: edgeograficos.colsmart_test5_owner.ILC_Interesado\n",
      "<geoprocessing describe field object object at 0x00000268D4070BD0>\n",
      "COL_SiNo\n",
      "['No', 'Si']\n",
      "[Dominio] Valor fuera de dominio → Tabla: edgeograficos.colsmart_test5_owner.ILC_Interesado, Campo: autoriza_notificacion_correo, Valor: , objectid: 1\n",
      "***************************\n",
      "Validando: edgeograficos.colsmart_test5_owner.ILC_Predio_Informalidad\n",
      "***************************\n",
      "Validando: edgeograficos.colsmart_test5_owner.ILC_TramitesDerechosTerritoriales\n",
      "<geoprocessing describe field object object at 0x00000268D4070A50>\n",
      "ILC_EntidadTipo\n",
      "['ANT_Agencia_Nacional_Tierras', 'SNR_Superintendencia_Notario_Registro', 'URT_Unidad_Restitucion_Tierras']\n",
      "***************************\n",
      "Validando: edgeograficos.colsmart_test5_owner.CR_Terreno\n",
      "***************************\n",
      "Validando: edgeograficos.colsmart_test5_owner.CR_UnidadConstruccion\n",
      "<geoprocessing describe field object object at 0x00000268D46AAE90>\n",
      "COL_SiNo\n",
      "['No', 'Si']\n",
      "[Dominio] Valor fuera de dominio → Tabla: edgeograficos.colsmart_test5_owner.CR_UnidadConstruccion, Campo: repetir, Valor: NO, objectid: 714397\n",
      "***************************\n",
      "Validando: edgeograficos.colsmart_test5_owner.ILC_Marcas\n",
      "<geoprocessing describe field object object at 0x00000268D46AADB0>\n",
      "ILC_MarcasTipo\n",
      "['Construccion_Nueva_No', 'Construccion_Nueva_Si', 'Lindero_FotoIdentificable_No', 'Lindero_FotoIdentificable_Si', 'Posible_Informalidad_No', 'Posible_Informalidad_Si', 'Predio_Nuevo_Desenglobe', 'Predio_Nuevo_Englobe', 'Predio_Nuevo_Geografico', 'Predio_Nuevo_Quinta']\n",
      "***************************\n",
      "Validando: edgeograficos.colsmart_test5_owner.ILC_Predio\n",
      "<geoprocessing describe field object object at 0x00000268D4070AD0>\n",
      "ILC_PredioTipo\n",
      "['Privado', 'Privado_Colectivo', 'Publico_Baldio', 'Pubico_Fiscal_Patrimonial', 'Publico_Presunto_Baldio', 'Publico_Uso_Publico', 'Reserva_Indigena']\n",
      "[Dominio] Valor fuera de dominio → Tabla: edgeograficos.colsmart_test5_owner.ILC_Predio, Campo: tipo, Valor: P, objectid: 518089\n"
     ]
    }
   ],
   "source": [
    "import arcpy\n",
    "\n",
    "def registrar(mensaje, tipo, tabla, campo, valor, objectid):\n",
    "    print(f\"[{tipo}] {mensaje} → Tabla: {tabla}, Campo: {campo}, Valor: {valor}, objectid: {objectid}\")\n",
    "\n",
    "sde_conn = r\"C:\\opt\\work\\igac\\data\\egdb_conn\\colsmart_dev\\egdb_colsmart_dev_colsmart_test5_owner.sde\"\n",
    "arcpy.env.workspace = sde_conn\n",
    "\n",
    "# Obtener todos los dominios en la geodatabase\n",
    "dominios = arcpy.da.ListDomains()\n",
    "dominios_dict = {dom.name: dom for dom in dominios if dom.domainType == 'CodedValue'}\n",
    "print(len(dominios_dict))\n",
    "\n",
    "# Obtener todas las tablas y feature classes\n",
    "elementos =  arcpy.ListTables() + arcpy.ListFeatureClasses() \n",
    "print(len(elementos))\n",
    "\n",
    "for fc in elementos:\n",
    "    print(\"***************************\")\n",
    "    print(f\"Validando: {fc}\")\n",
    "    fields = arcpy.ListFields(fc)\n",
    "    for f in fields:\n",
    "        if f.domain and f.domain in dominios_dict:\n",
    "            #print(f)\n",
    "            dominio = dominios_dict[f.domain]\n",
    "            print(dominio.name)\n",
    "            valores_validos = list(dominio.codedValues.keys())\n",
    "            print(valores_validos)\n",
    "\n",
    "            with arcpy.da.SearchCursor(fc, [f.name, \"objectid\"]) as cursor:\n",
    "                for row in cursor:\n",
    "                    #print(row)\n",
    "                    if row[0] is not None and row[0] not in valores_validos:\n",
    "                        registrar(\"Valor fuera de dominio\", \"Dominio\", fc, f.name, row[0], row[1])\n",
    "                    break\n",
    "            break\n"
   ]
  },
  {
   "cell_type": "code",
   "execution_count": null,
   "metadata": {},
   "outputs": [],
   "source": []
  }
 ],
 "metadata": {
  "kernelspec": {
   "display_name": "ArcGISPro",
   "language": "python",
   "name": "python3"
  },
  "language_info": {
   "file_extension": ".py",
   "mimetype": "text/x-python",
   "name": "python",
   "version": "3.11.10"
  }
 },
 "nbformat": 4,
 "nbformat_minor": 4
}
